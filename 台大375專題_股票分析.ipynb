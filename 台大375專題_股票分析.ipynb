{
 "cells": [
  {
   "cell_type": "code",
   "execution_count": null,
   "id": "7a32fd72",
   "metadata": {},
   "outputs": [],
   "source": [
    "#https://tw.stock.yahoo.com/quote/6592"
   ]
  },
  {
   "cell_type": "code",
   "execution_count": 1,
   "id": "7ed2f380",
   "metadata": {
    "scrolled": true
   },
   "outputs": [
    {
     "name": "stdout",
     "output_type": "stream",
     "text": [
      "[('2023/11/24', '和潤企業', '13:30', '128.5', '129.0', '129.5', '128.0', '128.5', '0.477', '128.5', '0.00%', '0.00', '371', '377', '1.17%'), ('2023/11/24', '聯發科', '14:30', '945', '935', '950', '932', '943', '42.37', '930', '1.61%', '15.00', '4,493', '5,181', '1.94%'), ('2023/11/24', '台積電', '14:30', '575', '577', '578', '574', '575', '57.73', '578', '0.52%', '3.00', '10,034', '14,459', '0.69%'), ('2023/11/24', '台塑', '14:30', '81.6', '81.5', '81.9', '81.2', '81.5', '3.45', '80.9', '0.87%', '0.70', '4,227', '2,599', '0.87%'), ('2023/11/24', '裕隆', '14:30', '78.5', '78.2', '79.0', '77.8', '78.4', '2.69', '77.8', '0.90%', '0.70', '3,425', '4,450', '1.54%'), ('2023/11/24', '三陽工業', '14:30', '74.7', '74.9', '75.5', '74.4', '74.7', '4.42', '74.5', '0.27%', '0.20', '5,909', '4,440', '1.48%')]\n"
     ]
    }
   ],
   "source": [
    "import requests\n",
    "from bs4 import BeautifulSoup\n",
    "\n",
    "#類別名稱\n",
    "class Stock:  \n",
    "    #建構式     (#參數1, 參數2)\n",
    "    def __init__(self, *stock_num):   #用*變成一個turple\n",
    "        self.stock_num = stock_num    #屬性(Attribute)\n",
    "        \n",
    "    #方法, 爬取\n",
    "    def scrape(self): \n",
    "        result = list() # 最終結果 使用List把所有結果打包起來\n",
    "        \n",
    "        \n",
    "        for stock_num in self.stock_num :\n",
    "            \n",
    "            response = requests.get(f\"https://tw.stock.yahoo.com/quote/{stock_num}\")\n",
    "            soup = BeautifulSoup( response.text, 'lxml') #指定 lxml 作為解析器             \n",
    "\n",
    "            stock_name = soup.find( \"h1\",{ \"class\" : \"C($c-link-text) Fw(b) Fz(24px) Mend(8px)\"}).getText() #不想要html標籤\n",
    "            stock_data = soup.find( \"span\",{ \"class\": \"C(#6e7780) Fz(14px) As(c)\"}).getText().replace('資料時間：', '')\n",
    "            market_data = stock_data[0:10]  #日期                                             #替換字型\n",
    "            market_time = stock_data[11:16] #時間\n",
    "\n",
    "            day_data = soup.find( \"ul\",{ \"class\": \"D(f) Fld(c) Flw(w) H(192px) Mx(-16px)\"}) #當日行情資料\n",
    "            iteams = day_data.find_all( \"li\",{\"class\": \"price-detail-item H(32px) Mx(16px) D(f) Jc(sb) Ai(c) Bxz(bb) Px(0px) Py(4px) Bdbs(s) Bdbc($bd-primary-divider) Bdbw(1px)\"})\n",
    "                                \n",
    "\n",
    "            data = tuple( iteam.find_all(\"span\")[1].getText() for iteam in iteams )\n",
    "\n",
    "            result.append( ( market_data, stock_name, market_time) + data)\n",
    "        return result\n",
    "    \n",
    "stock = Stock(\"6592\", \"2454\",\"2330\",\"1301\",\"2201\",\"2206\") #想知道的股票代碼\n",
    "print( stock.scrape() )"
   ]
  },
  {
   "cell_type": "code",
   "execution_count": 2,
   "id": "f3f17634",
   "metadata": {},
   "outputs": [],
   "source": [
    "import pandas as pd\n",
    "\n",
    "# 股票的數值\n",
    "data = stock.scrape()\n",
    "                #(數據 , colums(列) 數據上面的名稱標題)\n",
    "df = pd.DataFrame(data, columns=[\"日期\", \"股票名稱\", \"時間\", \"成交\", \"開盤\", \"最高\", \"最低\", \"均價\",\"成交值(億)\",\"昨天收盤\",\"漲跌幅\",\"漲跌\",\"總量\",\"昨量\",\"振幅\"])\n",
    "\n",
    "# 利用 pandas 的 DataFrame 來寫回 excel \n",
    "# to_excel寫回去(\"excel的路徑\",index = False不要顯示索引值)\n",
    "df.to_excel(\"股票專題.xlsx\", index=False)"
   ]
  },
  {
   "cell_type": "code",
   "execution_count": 3,
   "id": "6c7f5ed3",
   "metadata": {},
   "outputs": [],
   "source": [
    "import xlwings as xw \n",
    "wb = xw.Book(\"股票專題.xlsx\")\n",
    "sheet = wb.sheets[\"Sheet1\"]\n",
    "\n",
    "#更改一下標題顏色\n",
    "sheet.range(\"A1:O1\").color = (255, 255, 128)"
   ]
  },
  {
   "cell_type": "code",
   "execution_count": null,
   "id": "7f255db5-5126-47ef-bdc1-7a3f8958ed91",
   "metadata": {},
   "outputs": [],
   "source": []
  }
 ],
 "metadata": {
  "kernelspec": {
   "display_name": "Python 3 (ipykernel)",
   "language": "python",
   "name": "python3"
  },
  "language_info": {
   "codemirror_mode": {
    "name": "ipython",
    "version": 3
   },
   "file_extension": ".py",
   "mimetype": "text/x-python",
   "name": "python",
   "nbconvert_exporter": "python",
   "pygments_lexer": "ipython3",
   "version": "3.11.5"
  }
 },
 "nbformat": 4,
 "nbformat_minor": 5
}
